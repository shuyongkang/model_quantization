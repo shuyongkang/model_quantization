{
 "cells": [
  {
   "cell_type": "code",
   "execution_count": 1,
   "id": "5576999c-9ff4-4356-99c9-20a49b552590",
   "metadata": {},
   "outputs": [],
   "source": [
    "import numpy as np\n"
   ]
  },
  {
   "cell_type": "code",
   "execution_count": 2,
   "id": "6b6d574e-02af-44f4-aa44-b708ee345ce5",
   "metadata": {},
   "outputs": [],
   "source": [
    "a = np.array(12)"
   ]
  },
  {
   "cell_type": "markdown",
   "id": "7c7108ee-0de8-445d-b5ca-d556b2f9ae4d",
   "metadata": {},
   "source": [
    "用$r$表示浮点实数，$q$表示量化后的定点整数。浮点和整型之间的换算公式为:\n",
    "\n",
    "$$\n",
    "r = S(q-Z) \\tag{1}\n",
    "$$\n",
    "\n",
    "\n",
    "$$\n",
    "q = round(\\frac{r}{S}+Z) \\tag{2}\n",
    "$$\n",
    "\n",
    "$s$ 是 scale，表示实数和整数之间的比例关系.\n",
    "\n",
    "$$\n",
    "S = \\frac{r_{max}-r_{min}}{q_{max}-q_{min}}\\tag{3}\n",
    "$$\n",
    "\n",
    "\n",
    "$z$是 zero point，表示实数中的 0 经过量化后对应的整数。\n",
    "\n",
    "$$\n",
    "Z = round(q_{max} - \\frac{r_{max}}{S})\\tag{4}\n",
    "$$\n",
    "\n"
   ]
  },
  {
   "cell_type": "code",
   "execution_count": 9,
   "id": "4edae1d0-2d5f-472e-a8c1-ee6d66baff7a",
   "metadata": {},
   "outputs": [
    {
     "name": "stdout",
     "output_type": "stream",
     "text": [
      "scale: 0.0015748031496062994\n",
      "zeropoint: 0.0\n",
      "0.135 的量化值为: 86.0\n"
     ]
    }
   ],
   "source": [
    "#比如浮点数 的范围是[-0.2,0.2]\n",
    "#要做int8的量化，那么Qmax=127     Qmin=-127\n",
    "Qmax = 127\n",
    "Qmin = -127\n",
    "Rmin = -0.2\n",
    "Rmax = 0.2\n",
    "\n",
    "scale = (Rmax - Rmin) / (Qmax - Qmin)\n",
    "zero_point = np.round(Qmax - Rmax/S)\n",
    "\n",
    "print(\"scale:\", scale)\n",
    "print(\"zeropoint:\",zero_point)\n",
    "r1 = 0.135\n",
    "q1 = np.round(r1/scale + zero_point)\n",
    "print(r1,\"的量化值为:\",q1)\n"
   ]
  },
  {
   "cell_type": "markdown",
   "id": "77b8a28c-ccfb-40de-8169-5e21da8e3b23",
   "metadata": {},
   "source": [
    "假设 $S_1$、$Z_1$ 是 $r_1$、$r_2$ 数对应的 scale 和 zero point， $S_2$、$Z_2$、$S_3$、$Z_3$同理\n",
    "\n",
    "$$\n",
    "S_{3}(q_{3}-Z_{3})=S_1(q_{1}-Z_{1})S_{2}(q_{2}-Z_{2})  \\tag{6}\n",
    "$$\n",
    "\n",
    "那么\n",
    "$$\n",
    "q_{3}=\\frac{S_{1} S_{2}}{S_{3}}(q_{1}-Z_{1})(q_{2}-Z_{2}) + Z_{3}  \\tag{7}\n",
    "$$\n",
    "\n"
   ]
  },
  {
   "cell_type": "code",
   "execution_count": 57,
   "id": "8cfc14b0-1fb9-4542-9519-a48cfe8cb4c9",
   "metadata": {},
   "outputs": [
    {
     "name": "stdout",
     "output_type": "stream",
     "text": [
      "119.0\n",
      "-91.0\n",
      "-54.0\n",
      "-53.90964566929136\n",
      "-54.0\n"
     ]
    }
   ],
   "source": [
    "def quant(r,s,z):\n",
    "    q = np.round( r/s  +  z)\n",
    "    return q\n",
    "\n",
    "Qmax = 127\n",
    "Qmin = -127\n",
    "\n",
    "\n",
    "R1min = -0.1\n",
    "R1max = 0.2\n",
    "r1 = 0.19\n",
    "s1 =  (R1max - R1min) / (Qmax - Qmin)\n",
    "z1 =  np.round(Qmax - R1max/s1)\n",
    "q1 =quant(r1,s1,z1)\n",
    "\n",
    "\n",
    "\n",
    "R2min = -0.15\n",
    "R2max = 0.12\n",
    "r2 = -0.112\n",
    "s2 =  (R2max - R2min) / (Qmax - Qmin)\n",
    "z2 =  np.round(Qmax - R2max/s2)\n",
    "q2 =quant(r2,s2,z2)\n",
    "\n",
    "\n",
    "\n",
    "R3min = -0.05\n",
    "R3max = 0.05\n",
    "r3 = r1 * r2\n",
    "s3 =  (R3max - R3min) / (Qmax - Qmin)\n",
    "z3 =  np.round(Qmax - R3max/s3)\n",
    "q3 =quant(r3,s3,z3)\n",
    "\n",
    "print(q1)\n",
    "print(q2)\n",
    "print(q3)\n",
    "\n",
    "\n",
    "q3_1 = (s1 * s2 / s3) * ( q1 - z1 ) * ( q2 - z2 ) + z3\n",
    "\n",
    "print(q3_1)\n",
    "print(np.round(q3_1))\n",
    "\n",
    "\n",
    "#量化的是否可以不一样呢？  比如q1为uint8量化   q2为int8量化  \n",
    "\n"
   ]
  },
  {
   "cell_type": "code",
   "execution_count": 56,
   "id": "87520300-ee4e-44e6-a21a-94a53040158b",
   "metadata": {},
   "outputs": [
    {
     "name": "stdout",
     "output_type": "stream",
     "text": [
      "119.0\n",
      "7.0\n",
      "54.0\n",
      "54.20964705882354\n",
      "54.0\n"
     ]
    }
   ],
   "source": [
    "Q1max = 127\n",
    "Q1min = -127\n",
    "\n",
    "\n",
    "R1min = -0.1\n",
    "R1max = 0.2\n",
    "r1 = 0.19\n",
    "s1 =  (R1max - R1min) / (Q1max - Q1min)\n",
    "z1 =  np.round(Q1max - R1max/s1)\n",
    "q1 =quant(r1,s1,z1)\n",
    "\n",
    "\n",
    "Q2max = 0\n",
    "Q2min = 255\n",
    "\n",
    "R2min = -0.15\n",
    "R2max = 0.12\n",
    "r2 = 0.112\n",
    "s2 =  (R2max - R2min) / (Q2max - Q2min)\n",
    "z2 =  np.round(Q2max - R2max/s2)\n",
    "q2 =quant(r2,s2,z2)\n",
    "\n",
    "\n",
    "Q3max = 127\n",
    "Q3min = -127\n",
    "\n",
    "R3min = -0.05\n",
    "R3max = 0.05\n",
    "r3 = r1 * r2\n",
    "s3 =  (R3max - R3min) / (Q3max - Q3min)\n",
    "z3 =  np.round(Q3max - R3max/s3)\n",
    "q3 =quant(r3,s3,z3)\n",
    "\n",
    "print(q1)\n",
    "print(q2)\n",
    "print(q3)\n",
    "\n",
    "\n",
    "q3_1 = (s1 * s2 / s3) * ( q1 - z1 ) * ( q2 - z2 ) + z3\n",
    "print(q3_1)\n",
    "print(np.round(q3_1))"
   ]
  },
  {
   "cell_type": "markdown",
   "id": "e858127e-026d-45e7-b6c8-892c6f9bf317",
   "metadata": {},
   "source": [
    "观察一下上面的公式，会发现除了$\\frac{S_1 S_2}{S_3}$，浮点数运算，其他都是定点整数运算。要知道，在一些专用计算设备上是不支持浮点的计算的，那是否如何把$\\frac{S_1 S_2}{S_3}$也变成定点运算呢？\n",
    "\n",
    "假设 $M=\\frac{S_1 S_2}{S_3}$，由于 $M$ 通常都是 (0, 1) 之间的实数 (这是通过大量实验统计出来的)，因此可以表示成 $M=2^{-n}M_0$，其中 $M_0$ 是一个定点实数。注意，定点数并不一定是整数，所谓定点，指的是小数点的位置是固定的，即小数位数是固定的。因此，如果存在 $M=2^{-n}M_0$，那我们就可以通过 $M_0$ 的 bit 位移操作实现 $2^{-n}M_0$，这样整个过程就都在定点上计算了。\n",
    "\n"
   ]
  },
  {
   "cell_type": "markdown",
   "id": "291bc3ed-b31a-4a1a-88b5-d908b2b5b27f",
   "metadata": {},
   "source": [
    "\n",
    "假设 $P=7091$，$M=0.0072474273418460$ ($M$可以通过 $S$ 事先计算得到)，那下面我们就是要找到一个 $M0$ 和$n$，使得 $MP=2^{-n}M_0 P$ 成立。我们可以用一段代码来找到这两个数："
   ]
  },
  {
   "cell_type": "code",
   "execution_count": 6,
   "id": "e2e7c4f0-d85a-4a24-9b0f-ee35a41cac05",
   "metadata": {},
   "outputs": [
    {
     "name": "stdout",
     "output_type": "stream",
     "text": [
      "n=1, Mo=0, approx=0.000000, error=51.391507\n",
      "n=2, Mo=0, approx=0.000000, error=51.391507\n",
      "n=3, Mo=0, approx=0.000000, error=51.391507\n",
      "n=4, Mo=0, approx=0.000000, error=51.391507\n",
      "n=5, Mo=0, approx=0.000000, error=51.391507\n",
      "n=6, Mo=0, approx=0.000000, error=51.391507\n",
      "n=7, Mo=1, approx=55.000000, error=-3.608493\n",
      "n=8, Mo=2, approx=55.000000, error=-3.608493\n",
      "n=9, Mo=4, approx=55.000000, error=-3.608493\n",
      "n=10, Mo=7, approx=48.000000, error=3.391507\n",
      "n=11, Mo=15, approx=51.000000, error=0.391507\n",
      "n=12, Mo=30, approx=51.000000, error=0.391507\n",
      "n=13, Mo=59, approx=51.000000, error=0.391507\n",
      "n=14, Mo=119, approx=51.000000, error=0.391507\n",
      "n=15, Mo=237, approx=51.000000, error=0.391507\n"
     ]
    }
   ],
   "source": [
    "M = 0.0072474273418460\n",
    "P = 7091\n",
    "\n",
    "def multiply(n, M, P):\n",
    "    result = M * P\n",
    "    Mo = int(round(2 ** n * M)) # 这里不一定要四舍五入截断，因为python定点数不好表示才这样处理\n",
    "\n",
    "    approx_result = (Mo * P) >> n\n",
    "    print(\"n=%d, Mo=%d, approx=%f, error=%f\"%\\\n",
    "          (n, Mo, approx_result, result-approx_result))\n",
    "\n",
    "for n in range(1, 16):\n",
    "    multiply(n, M, P)"
   ]
  },
  {
   "cell_type": "markdown",
   "id": "cda6d6e9-ceb6-4504-a1d9-933419ff2452",
   "metadata": {},
   "source": [
    "可以看到，在 $n=11$、$M0=15$ 的时候，误差就已经在 1 以内了。因此，只要 $M_0P$的数值范围在 21(32-11) 个 bit 内，就可以通过对 $M_0P$右移 $n$ 个 bit 来近似 $MP$ 了，而这个误差本身在可以接受的范围内。这样一来，(8) 式就可以完全通过定点运算来计算，即我们实现了浮点矩阵乘法的量化。"
   ]
  },
  {
   "cell_type": "code",
   "execution_count": null,
   "id": "06ecce25-cf3b-4609-adde-99d598ef2228",
   "metadata": {},
   "outputs": [],
   "source": []
  },
  {
   "cell_type": "code",
   "execution_count": null,
   "id": "2d5c4614-0b1b-433b-969c-17c9e3c9f6a9",
   "metadata": {},
   "outputs": [],
   "source": [
    "multiper   和shift 怎么计算？？\n"
   ]
  },
  {
   "cell_type": "code",
   "execution_count": null,
   "id": "e4b6a23a-86df-4552-8835-d5c3636fdc27",
   "metadata": {},
   "outputs": [],
   "source": []
  },
  {
   "cell_type": "code",
   "execution_count": null,
   "id": "4018619e-5833-4413-83d5-e3bf30e46142",
   "metadata": {},
   "outputs": [],
   "source": []
  },
  {
   "cell_type": "markdown",
   "id": "555cd52a-3797-4182-8ab5-ca92a7ec43e7",
   "metadata": {},
   "source": [
    "add"
   ]
  },
  {
   "cell_type": "code",
   "execution_count": null,
   "id": "5dcbaee4-6853-43a5-8202-4db72a2c61cc",
   "metadata": {},
   "outputs": [],
   "source": []
  }
 ],
 "metadata": {
  "kernelspec": {
   "display_name": "Python 3 (ipykernel)",
   "language": "python",
   "name": "python3"
  },
  "language_info": {
   "codemirror_mode": {
    "name": "ipython",
    "version": 3
   },
   "file_extension": ".py",
   "mimetype": "text/x-python",
   "name": "python",
   "nbconvert_exporter": "python",
   "pygments_lexer": "ipython3",
   "version": "3.9.7"
  },
  "toc-autonumbering": true
 },
 "nbformat": 4,
 "nbformat_minor": 5
}
