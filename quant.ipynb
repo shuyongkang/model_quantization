{
 "cells": [
  {
   "cell_type": "markdown",
   "id": "40c0a214-4ef0-4f7f-848a-c4e334fb0847",
   "metadata": {},
   "source": [
    "目前学术界的量化方法都过于花俏，能落地的极少，工业界广泛使用的还是 Google TFLite 那一套量化方法 (即 TFLite 的量化，对应 Google 的论文 [Quantization and Training of Neural Networks for Efficient Integer-Arithmetic-Only Inference](https://arxiv.org/abs/1712.05877) )\n",
    "\n",
    "这里介绍一下网络量化的基本原理，以及量化模型如何完成推理。"
   ]
  },
  {
   "cell_type": "code",
   "execution_count": null,
   "id": "51f45a5b-2829-4448-bc48-e3ae3ed8ab1f",
   "metadata": {},
   "outputs": [],
   "source": []
  },
  {
   "cell_type": "markdown",
   "id": "05f58f17-f56a-4d6d-a0a6-d22d3c3d2576",
   "metadata": {},
   "source": [
    "量化并不是什么新知识，我们在对图像做预处理时就用到了量化。回想一下，我们通常会将一张 uint8 类型、数值范围在 0~255 的图片归一成 float32 类型、数值范围在 0.0~1.0 的张量，这个过程就是**反量化**。类似地，我们经常将网络输出的范围在 0.0~1.0 之间的张量调整成数值为 0~255、uint8 类型的图片数据，这个过程就是**量化**。所以量化本质上只是对数值范围的重新调整，可以「粗略」理解为是一种线性映射。(之所以加「粗略」二字，是因为有些论文会用非线性量化，但目前在工业界落地的还都是线性量化，所以本文只讨论线性量化的方案)。\n",
    "\n",
    "不过，可以明显看出，反量化一般没有信息损失，而量化一般都会有精度损失。这也非常好理解，float32 能保存的数值范围本身就比 uint8 多，因此必定有大量数值无法用 uint8 表示，只能四舍五入成 uint8 型的数值。量化模型和全精度模型的误差也来自四舍五入的 clip 操作。"
   ]
  },
  {
   "cell_type": "code",
   "execution_count": null,
   "id": "ce17a9cf-f7f8-4495-9587-c84c8cac06a8",
   "metadata": {},
   "outputs": [],
   "source": []
  },
  {
   "cell_type": "code",
   "execution_count": 2,
   "id": "6b6d574e-02af-44f4-aa44-b708ee345ce5",
   "metadata": {},
   "outputs": [],
   "source": [
    "import numpy s np\n",
    "\n",
    "a = np.array(12)\n"
   ]
  },
  {
   "cell_type": "markdown",
   "id": "7c7108ee-0de8-445d-b5ca-d556b2f9ae4d",
   "metadata": {},
   "source": [
    "用$r$表示浮点实数，$q$表示量化后的定点整数。浮点和整型之间的换算公式为:\n",
    "\n",
    "$$\n",
    "r = S(q-Z) \\tag{1}\n",
    "$$\n",
    "\n",
    "\n",
    "$$\n",
    "q = round(\\frac{r}{S}+Z) \\tag{2}\n",
    "$$\n",
    "\n",
    "$s$ 是 scale，表示实数和整数之间的比例关系.\n",
    "\n",
    "$$\n",
    "S = \\frac{r_{max}-r_{min}}{q_{max}-q_{min}}\\tag{3}\n",
    "$$\n",
    "\n",
    "\n",
    "$z$是 zero point，表示实数中的 0 经过量化后对应的整数。\n",
    "\n",
    "$$\n",
    "Z = round(q_{max} - \\frac{r_{max}}{S})\\tag{4}\n",
    "$$\n",
    "\n"
   ]
  },
  {
   "cell_type": "code",
   "execution_count": 9,
   "id": "4edae1d0-2d5f-472e-a8c1-ee6d66baff7a",
   "metadata": {},
   "outputs": [
    {
     "name": "stdout",
     "output_type": "stream",
     "text": [
      "scale: 0.0015748031496062994\n",
      "zeropoint: 0.0\n",
      "0.135 的量化值为: 86.0\n"
     ]
    }
   ],
   "source": [
    "#比如浮点数 的范围是[-0.2,0.2]\n",
    "#要做int8的量化，那么Qmax=127     Qmin=-127\n",
    "Qmax = 127\n",
    "Qmin = -127\n",
    "Rmin = -0.2\n",
    "Rmax = 0.2\n",
    "\n",
    "scale = (Rmax - Rmin) / (Qmax - Qmin)\n",
    "zero_point = np.round(Qmax - Rmax/S)\n",
    "\n",
    "print(\"scale:\", scale)\n",
    "print(\"zeropoint:\",zero_point)\n",
    "r1 = 0.135\n",
    "q1 = np.round(r1/scale + zero_point)\n",
    "print(r1,\"的量化值为:\",q1)\n"
   ]
  },
  {
   "cell_type": "markdown",
   "id": "77b8a28c-ccfb-40de-8169-5e21da8e3b23",
   "metadata": {},
   "source": [
    "假设 $S_1$、$Z_1$ 是 $r_1$、$r_2$ 数对应的 scale 和 zero point， $S_2$、$Z_2$、$S_3$、$Z_3$同理\n",
    "\n",
    "$$\n",
    "S_{3}(q_{3}-Z_{3})=S_1(q_{1}-Z_{1})S_{2}(q_{2}-Z_{2})  \\tag{6}\n",
    "$$\n",
    "\n",
    "那么\n",
    "$$\n",
    "q_{3}=\\frac{S_{1} S_{2}}{S_{3}}(q_{1}-Z_{1})(q_{2}-Z_{2}) + Z_{3}  \\tag{7}\n",
    "$$\n",
    "\n"
   ]
  },
  {
   "cell_type": "code",
   "execution_count": 66,
   "id": "8cfc14b0-1fb9-4542-9519-a48cfe8cb4c9",
   "metadata": {},
   "outputs": [
    {
     "name": "stdout",
     "output_type": "stream",
     "text": [
      "119.0\n",
      "-91.0\n",
      "-54.0\n",
      "-53.90964566929136\n",
      "-54.0\n"
     ]
    }
   ],
   "source": [
    "def quant(r,s,z):\n",
    "    q = np.round( r/s  +  z)\n",
    "    return q\n",
    "\n",
    "Qmax = 127\n",
    "Qmin = -127\n",
    "\n",
    "\n",
    "R1min = -0.1\n",
    "R1max = 0.2\n",
    "r1 = 0.19\n",
    "s1 =  (R1max - R1min) / (Qmax - Qmin)\n",
    "z1 =  np.round(Qmax - R1max/s1)\n",
    "q1 =quant(r1,s1,z1)\n",
    "\n",
    "\n",
    "\n",
    "R2min = -0.15\n",
    "R2max = 0.12\n",
    "r2 = -0.112\n",
    "s2 =  (R2max - R2min) / (Qmax - Qmin)\n",
    "z2 =  np.round(Qmax - R2max/s2)\n",
    "q2 =quant(r2,s2,z2)\n",
    "\n",
    "\n",
    "\n",
    "R3min = -0.05\n",
    "R3max = 0.05\n",
    "r3 = r1 * r2\n",
    "s3 =  (R3max - R3min) / (Qmax - Qmin)\n",
    "z3 =  np.round(Qmax - R3max/s3)\n",
    "q3 =quant(r3,s3,z3)\n",
    "\n",
    "print(q1)\n",
    "print(q2)\n",
    "print(q3)\n",
    "\n",
    "\n",
    "q3_1 = (s1 * s2 / s3) * ( q1 - z1 ) * ( q2 - z2 ) + z3\n",
    "\n",
    "print(q3_1)\n",
    "print(np.round(q3_1))\n",
    "\n",
    "\n",
    "#量化的是否可以不一样呢？  比如q1为uint8量化   q2为int8量化  \n",
    "\n"
   ]
  },
  {
   "cell_type": "code",
   "execution_count": 56,
   "id": "87520300-ee4e-44e6-a21a-94a53040158b",
   "metadata": {},
   "outputs": [
    {
     "name": "stdout",
     "output_type": "stream",
     "text": [
      "119.0\n",
      "7.0\n",
      "54.0\n",
      "54.20964705882354\n",
      "54.0\n"
     ]
    }
   ],
   "source": [
    "Q1max = 127\n",
    "Q1min = -127\n",
    "\n",
    "\n",
    "R1min = -0.1\n",
    "R1max = 0.2\n",
    "r1 = 0.19\n",
    "s1 =  (R1max - R1min) / (Q1max - Q1min)\n",
    "z1 =  np.round(Q1max - R1max/s1)\n",
    "q1 =quant(r1,s1,z1)\n",
    "\n",
    "\n",
    "Q2max = 0\n",
    "Q2min = 255\n",
    "\n",
    "R2min = -0.15\n",
    "R2max = 0.12\n",
    "r2 = 0.112\n",
    "s2 =  (R2max - R2min) / (Q2max - Q2min)\n",
    "z2 =  np.round(Q2max - R2max/s2)\n",
    "q2 =quant(r2,s2,z2)\n",
    "\n",
    "\n",
    "Q3max = 127\n",
    "Q3min = -127\n",
    "\n",
    "R3min = -0.05\n",
    "R3max = 0.05\n",
    "r3 = r1 * r2\n",
    "s3 =  (R3max - R3min) / (Q3max - Q3min)\n",
    "z3 =  np.round(Q3max - R3max/s3)\n",
    "q3 =quant(r3,s3,z3)\n",
    "\n",
    "print(q1)\n",
    "print(q2)\n",
    "print(q3)\n",
    "\n",
    "\n",
    "q3_1 = (s1 * s2 / s3) * ( q1 - z1 ) * ( q2 - z2 ) + z3\n",
    "print(q3_1)\n",
    "print(np.round(q3_1))"
   ]
  },
  {
   "cell_type": "markdown",
   "id": "e858127e-026d-45e7-b6c8-892c6f9bf317",
   "metadata": {},
   "source": [
    "观察一下上面的公式，会发现除了$\\frac{S_1 S_2}{S_3}$，浮点数运算，其他都是定点整数运算。要知道，在一些专用计算设备上是不支持浮点的计算的，那是否如何把$\\frac{S_1 S_2}{S_3}$也变成定点运算呢？\n",
    "\n",
    "假设 $M=\\frac{S_1 S_2}{S_3}$，由于 $M$ 通常都是 (0, 1) 之间的实数 (这是通过大量实验统计出来的)，因此可以表示成 $M=2^{-n}M_0$，其中 $M_0$ 是一个定点实数。注意，定点数并不一定是整数，所谓定点，指的是小数点的位置是固定的，即小数位数是固定的。因此，如果存在 $M=2^{-n}M_0$，那我们就可以通过 $M_0$ 的 bit 位移操作实现 $2^{-n}M_0$，这样整个过程就都在定点上计算了。\n",
    "\n"
   ]
  },
  {
   "cell_type": "markdown",
   "id": "291bc3ed-b31a-4a1a-88b5-d908b2b5b27f",
   "metadata": {},
   "source": [
    "\n",
    "假设 $P=7091$，$M=0.0072474273418460$ ($M$可以通过 $S$ 事先计算得到)，那下面我们就是要找到一个 $M0$ 和$n$，使得 $MP=2^{-n}M_0 P$ 成立。我们可以用一段代码来找到这两个数："
   ]
  },
  {
   "cell_type": "code",
   "execution_count": 6,
   "id": "e2e7c4f0-d85a-4a24-9b0f-ee35a41cac05",
   "metadata": {},
   "outputs": [
    {
     "name": "stdout",
     "output_type": "stream",
     "text": [
      "n=1, Mo=0, approx=0.000000, error=51.391507\n",
      "n=2, Mo=0, approx=0.000000, error=51.391507\n",
      "n=3, Mo=0, approx=0.000000, error=51.391507\n",
      "n=4, Mo=0, approx=0.000000, error=51.391507\n",
      "n=5, Mo=0, approx=0.000000, error=51.391507\n",
      "n=6, Mo=0, approx=0.000000, error=51.391507\n",
      "n=7, Mo=1, approx=55.000000, error=-3.608493\n",
      "n=8, Mo=2, approx=55.000000, error=-3.608493\n",
      "n=9, Mo=4, approx=55.000000, error=-3.608493\n",
      "n=10, Mo=7, approx=48.000000, error=3.391507\n",
      "n=11, Mo=15, approx=51.000000, error=0.391507\n",
      "n=12, Mo=30, approx=51.000000, error=0.391507\n",
      "n=13, Mo=59, approx=51.000000, error=0.391507\n",
      "n=14, Mo=119, approx=51.000000, error=0.391507\n",
      "n=15, Mo=237, approx=51.000000, error=0.391507\n"
     ]
    }
   ],
   "source": [
    "M = 0.0072474273418460\n",
    "P = 7091\n",
    "\n",
    "def multiply(n, M, P):\n",
    "    result = M * P\n",
    "    Mo = int(round(2 ** n * M)) # 这里不一定要四舍五入截断，因为python定点数不好表示才这样处理\n",
    "\n",
    "    approx_result = (Mo * P) >> n\n",
    "    print(\"n=%d, Mo=%d, approx=%f, error=%f\"%\\\n",
    "          (n, Mo, approx_result, result-approx_result))\n",
    "\n",
    "for n in range(1, 16):\n",
    "    multiply(n, M, P)"
   ]
  },
  {
   "cell_type": "markdown",
   "id": "cda6d6e9-ceb6-4504-a1d9-933419ff2452",
   "metadata": {},
   "source": [
    "可以看到，在 $n=11$、$M0=15$ 的时候，误差就已经在 1 以内了。因此，只要 $M_0P$的数值范围在 21(32-11) 个 bit 内，就可以通过对 $M_0P$右移 $n$ 个 bit 来近似 $MP$ 了，而这个误差本身在可以接受的范围内。这样一来，(8) 式就可以完全通过定点运算来计算，即我们实现了浮点矩阵乘法的量化。"
   ]
  },
  {
   "cell_type": "code",
   "execution_count": null,
   "id": "06ecce25-cf3b-4609-adde-99d598ef2228",
   "metadata": {},
   "outputs": [],
   "source": []
  },
  {
   "cell_type": "markdown",
   "id": "38183429-27f4-4b6d-b5b9-2e2759b1edaa",
   "metadata": {},
   "source": [
    "$$M=2^{-n}M_0 $$"
   ]
  },
  {
   "cell_type": "code",
   "execution_count": 3,
   "id": "e4b6a23a-86df-4552-8835-d5c3636fdc27",
   "metadata": {},
   "outputs": [
    {
     "name": "stdout",
     "output_type": "stream",
     "text": [
      "0.5\n"
     ]
    }
   ],
   "source": [
    "M = 0.5\n",
    "multiper = 16384\n",
    "shift = 15\n",
    "\n",
    "print(16384 * 2**-15)"
   ]
  },
  {
   "cell_type": "markdown",
   "id": "35c8fa87-c8cb-42c3-b226-eb514cbc1b26",
   "metadata": {},
   "source": [
    "“定点数”就是“点”不动的数。那么究竟是什么“点”不动呢？没错，就是“小数点”。\n"
   ]
  },
  {
   "cell_type": "markdown",
   "id": "555cd52a-3797-4182-8ab5-ca92a7ec43e7",
   "metadata": {},
   "source": [
    "add"
   ]
  },
  {
   "cell_type": "code",
   "execution_count": null,
   "id": "5dcbaee4-6853-43a5-8202-4db72a2c61cc",
   "metadata": {},
   "outputs": [],
   "source": [
    "multiper   和shift 怎么计算？？"
   ]
  },
  {
   "cell_type": "markdown",
   "id": "845cc3e0-6a28-4d2c-ae4a-e3ee11097bb4",
   "metadata": {},
   "source": []
  },
  {
   "cell_type": "markdown",
   "id": "66f7877a-6b01-4ebc-b399-697be6bf8f9f",
   "metadata": {},
   "source": [
    "$$\n",
    "S_{3}(q_{3}-Z_{3})=S_1(q_{1}-Z_{1}) + S_{2}(q_{2}-Z_{2})  \\tag{6}\n",
    "$$\n",
    "\n",
    "这里的话会有点那一理解\n",
    "\n",
    "$$\n",
    "q_{3}=\\frac{S_{1}}{S_{3}}[(q_{1}-Z_{1})  + \\frac{S_{2}}{S_{1}}(q_{2}-Z_{2})] + Z_{3}  \\tag{7}\n",
    "$$\n",
    "\n",
    "\n",
    "\n",
    "https://zhuanlan.zhihu.com/p/336682366\n",
    "\n",
    "因为 eltwisesum 要求两个数必须是在同一个量纲下才能相加。举个例子，假设其中一个数 r1 的范围是[-10, 10]，另一个数 r2 的范围是[-1, 1]，并且都是量化到uint8 [0, 255]。再假设 r1=5，那么可以算出 q1=190，假设 r2=0.5，同样可以算出 q2=190 (按照比例算一下就知道)，如果不做 rescale，那么定点中就变成 q1+q2=190+190，但这明明是两个不同的数，因此这样相加明显是不合理的，所以才要对其中一个输入做 rescale。\n",
    "\n",
    "这涉及到乘法和加法本身的性质。沿用上面那个例子，r1*r2=S1(q1-Z1)S2(q2-Z2)，我们把S1和S2都乘进去了，因此在量化运算后，完全可以等价推算回浮点运算。但加法里面，r1+r2=S1(q1-Z1)+S2(q2-Z2)，因为加法本身的性质，我们没法避开S1 S2直接对q1和q2做量化运算，因此就会涉及到rescale。"
   ]
  },
  {
   "cell_type": "code",
   "execution_count": 12,
   "id": "68298c24-4894-4e75-9b53-a74c4b79f6ea",
   "metadata": {},
   "outputs": [
    {
     "name": "stdout",
     "output_type": "stream",
     "text": [
      "119.0\n",
      "7.0\n",
      "119.0\n",
      "118.75046439628483\n",
      "119.0\n",
      "0.302\n",
      "0.3023927744326077\n"
     ]
    }
   ],
   "source": [
    "import numpy as np\n",
    "\n",
    "def quant(r,s,z):\n",
    "    q = np.round( r/s  +  z)\n",
    "    return q\n",
    "\n",
    "\n",
    "Q1max = 127\n",
    "Q1min = -127\n",
    "\n",
    "\n",
    "R1min = -0.1\n",
    "R1max = 0.2\n",
    "r1 = 0.19\n",
    "s1 =  (R1max - R1min) / (Q1max - Q1min)\n",
    "z1 =  np.round(Q1max - R1max/s1)\n",
    "q1 =quant(r1,s1,z1)\n",
    "\n",
    "\n",
    "Q2max = 0\n",
    "Q2min = 255\n",
    "\n",
    "R2min = -0.15\n",
    "R2max = 0.12\n",
    "r2 = 0.112\n",
    "s2 =  (R2max - R2min) / (Q2max - Q2min)\n",
    "z2 =  np.round(Q2max - R2max/s2)\n",
    "q2 =quant(r2,s2,z2)\n",
    "\n",
    "\n",
    "Q3max = 127\n",
    "Q3min = -127\n",
    "\n",
    "R3min = -0.25\n",
    "R3max = 0.32\n",
    "r3 = r1 + r2\n",
    "s3 =  (R3max - R3min) / (Q3max - Q3min)\n",
    "z3 =  np.round(Q3max - R3max/s3)\n",
    "q3 =quant(r3,s3,z3)\n",
    "\n",
    "print(q1)\n",
    "print(q2)\n",
    "print(q3)\n",
    "\n",
    "\n",
    "q3_1 =(s1/s3)*(q1 - z1 + (s2/s1)*(q2-z2))  + z3\n",
    "print(q3_1)\n",
    "print(np.round(q3_1))\n",
    "\n",
    "\n",
    "print(r3)\n",
    "print((q3_1-z3) * s3)\n",
    "\n",
    "\n",
    "#注意一点  值的范围r1、r2的范围决定了r2的范围"
   ]
  },
  {
   "cell_type": "markdown",
   "id": "79d3ee43-b6cc-4d7e-8c68-f8b0acebde7c",
   "metadata": {},
   "source": [
    "一个量化的conv，输入是uint8  weight是uint8    输出也应该是uint8, 中间的这个计算过程是什么样的呢？\n",
    "$$\n",
    "q_{3}=\\frac{S_{1} S_{2}}{S_{3}}(q_{1}-Z_{1})(q_{2}-Z_{2}) + Z_{3} \n",
    "$$\n",
    "\n",
    "\n",
    "再看一眼这个公式，$(q_{1}-Z_{1})(q_{2}-Z_{2})$ 可以直接计算出来，这里有个乘法的计算8bit x 8bit，所以输出是一个16bit来存储结果，再乘以multiper,完成移位移位，最后再加上zeropoint，就得到最后的结果了\n"
   ]
  },
  {
   "cell_type": "markdown",
   "id": "80dc01cf-6211-4fc2-a6d7-5a430119b27c",
   "metadata": {},
   "source": [
    "\n",
    "### add"
   ]
  },
  {
   "cell_type": "code",
   "execution_count": 17,
   "id": "02bc4564-7faf-485a-a907-fae8189d13df",
   "metadata": {},
   "outputs": [
    {
     "name": "stdout",
     "output_type": "stream",
     "text": [
      "0.3733380402455478\n",
      "0.5\n",
      "0.1091148721215705\n"
     ]
    }
   ],
   "source": [
    "import numpy as np\n",
    "\n",
    "scale0 = 0.26118746399879456          \n",
    "zeropoint0 = 126.0\n",
    "\n",
    "scale1 = 0.3498002290725708           \n",
    "zeropoint1 = 140.0\n",
    "\n",
    "output_scale = 0.40072473883628845 \n",
    "output_zeropoint = 139\n",
    "\n",
    "max_input_scale = max(scale0, scale1) \n",
    "\n",
    "input_multiper0 = scale0 / (2 * max_input_scale) \n",
    "\n",
    "input_multiper1 = scale1 / (2  * max_input_scale) \n",
    "\n",
    "\n",
    "\n",
    "data_left_shift = 4\n",
    "real_output_multiplier = (max_input_scale*2) / ((0b0000000000000000000001 << data_left_shift) *  output_scale);\n",
    "print(input_multiper0)\n",
    "print(input_multiper1)\n",
    "print(real_output_multiplier)"
   ]
  },
  {
   "cell_type": "code",
   "execution_count": 26,
   "id": "56ff9074-47b4-4ca1-9d5c-e57254a6e27a",
   "metadata": {},
   "outputs": [
    {
     "name": "stdout",
     "output_type": "stream",
     "text": [
      "(24467.0, 16)\n",
      "(16384.0, 15)\n",
      "(28604.0, 18)\n"
     ]
    }
   ],
   "source": [
    "import math\n",
    "\n",
    "\n",
    "def calcRescaleMultiAndshift(rescale):\n",
    "    shift = 0\n",
    "    exp = 0\n",
    "    fr,exp = math.frexp(rescale)\n",
    "\n",
    "    multiplier = np.round(fr * (0b00000000000000000000000000000000000000001 << 15))  #uint16\n",
    "\n",
    "    if multiplier == (0b000000000000000000000000000000000001 << 15):\n",
    "        multiplier =  multiplier / 2;\n",
    "        exp = exp + 1;\n",
    "\n",
    "    # assert(exp <= INT8_MAX && exp >= INT8_MIN);\n",
    "    shift = exp   #static_cast<int8_t>\n",
    "    if shift < -15:\n",
    "        shift = 0;\n",
    "        multiplier = 0;\n",
    "    shift = -shift + 15    # add算子的shift不用-8   目前只有conv和fc类要-8\n",
    "\n",
    "    return(multiplier,shift)\n",
    "    \n",
    "print(calcRescaleMultiAndshift(0.3733380402455478))\n",
    "print(calcRescaleMultiAndshift(0.5))\n",
    "print(calcRescaleMultiAndshift(0.1091148721215705))"
   ]
  },
  {
   "cell_type": "markdown",
   "id": "9a399ba6-b3ab-48ff-804e-d0166a128701",
   "metadata": {},
   "source": [
    "sub   fm0_requantparam_zeropoint_in   减去zeropoint\n",
    "\n",
    "mul   requantparam0_multiplier_in     乘multiper\n",
    "\n",
    "srl   requantparam0_shift_in - 4      右移位 \n",
    "\n",
    "\n",
    "\n",
    "sub  fm1_requantparam_zeropoint_in    减去zeropoint\n",
    "\n",
    "mul  requantparam1_multiplier_in      乘multiper\n",
    "\n",
    "srl  requantparam1_shift_in - 4       右移位 \n",
    "\n",
    "\n",
    "\n",
    "add  两数相加\n",
    "\n",
    "\n",
    "mul requantparam_multiplier_out     乘multiper   \n",
    "\n",
    "srl requantparam_shift_out          右移位   \n",
    "\n",
    "add requantparam_zerpoint_out       zeropoint加上   "
   ]
  },
  {
   "cell_type": "code",
   "execution_count": 7,
   "id": "2c1094b8-4912-4515-a41d-2d768ee082e9",
   "metadata": {},
   "outputs": [
    {
     "name": "stdout",
     "output_type": "stream",
     "text": [
      "   python sim ['0x8b', '0x88', '0x8b', '0x8a', '0x8b', '0x8d', '0x8d', '0x8b', '0x89', '0x88', '0x8b', '0x89']\n",
      "expect_result ['0x93', '0x6b', '0x9b', '0x86', '0x92', '0xb1', '0xb0', '0x94', '0x79', '0x61', '0x9a', '0x77']\n"
     ]
    }
   ],
   "source": [
    "def compute(a, b):\n",
    "    a =((a - 140) * 16384) >> 15\n",
    "    b =((b - 126) * 24467) >> 16\n",
    "    return hex(( ((a + b) * 28604) >> 18) + 139)\n",
    "\n",
    "input0 = [0x86, 0x8c, 0x90, 0x97, 0x9c, 0xb2, 0xa6, 0x83, 0x70, 0x7e, 0x91, 0x86]\n",
    "input1 = [0x93, 0x4d, 0x91, 0x68, 0x74, 0x85, 0x94, 0x98, 0x88, 0x50, 0x8f, 0x67]\n",
    "\n",
    "resul = [compute(a,b) for a,b in zip(input0,input1)]\n",
    "\n",
    "expect_result = ['0x93','0x6b', '0x9b', '0x86', '0x92', '0xb1', '0xb0', '0x94', '0x79', '0x61', '0x9a', '0x77' ]\n",
    "\n",
    "print(\"   python sim\",resul)\n",
    "print(\"expect_result\",expect_result)"
   ]
  },
  {
   "cell_type": "code",
   "execution_count": null,
   "id": "3a92f53e-1f4b-43e4-8327-67a20b31efe5",
   "metadata": {},
   "outputs": [],
   "source": [
    "              ['0x8b', '0x88', '0x8b', '0x8a', '0x8b', '0x8d', '0x8d', '0x8b', '0x89', '0x88', '0x8b', '0x89']"
   ]
  },
  {
   "cell_type": "code",
   "execution_count": 21,
   "id": "0fa7e114-ec97-45c7-ade6-38650868edbd",
   "metadata": {},
   "outputs": [
    {
     "name": "stdout",
     "output_type": "stream",
     "text": [
      "   python sim ['0x8b', '0x88', '0x8b', '0x8a', '0x8b', '0x8d', '0x8d', '0x8b', '0x89', '0x88', '0x8b', '0x89']\n",
      "expect_result ['0x93', '0x6b', '0x9b', '0x86', '0x92', '0xb1', '0xb0', '0x94', '0x79', '0x61', '0x9a', '0x77']\n"
     ]
    }
   ],
   "source": [
    "def compute(a,b):\n",
    "    a =((a - 140) * 16384) >> 15\n",
    "    b =((b - 126) * 24467) >> 16\n",
    "    return hex(( ((a + b) * 28604) >> 18) + 139)\n",
    "\n",
    "a_list = [0x93, 0x4d, 0x91, 0x68, 0x74, 0x85, 0x94, 0x98, 0x88, 0x50, 0x8f, 0x67]\n",
    "b_list = [0x86, 0x8c, 0x90, 0x97, 0x9c, 0xb2, 0xa6, 0x83, 0x70, 0x7e, 0x91, 0x86]\n",
    "resul1 = [compute(a,b) for a,b in zip(b_list,a_list)]\n",
    "\n",
    "expect_result = ['0x93','0x6b', '0x9b', '0x86', '0x92', '0xb1', '0xb0', '0x94', '0x79', '0x61', '0x9a', '0x77' ]\n",
    "\n",
    "print(\"   python sim\",resul1)\n",
    "print(\"expect_result\",expect_result)"
   ]
  },
  {
   "cell_type": "code",
   "execution_count": null,
   "id": "e90a48d6-3775-48d7-a356-c966258f5245",
   "metadata": {},
   "outputs": [
    {
     "ename": "NameError",
     "evalue": "name 'sub' is not defined",
     "output_type": "error",
     "traceback": [
      "\u001b[0;31m---------------------------------------------------------------------------\u001b[0m",
      "\u001b[0;31mNameError\u001b[0m                                 Traceback (most recent call last)",
      "Input \u001b[0;32mIn [18]\u001b[0m, in \u001b[0;36m<cell line: 1>\u001b[0;34m()\u001b[0m\n\u001b[0;32m----> 1\u001b[0m \u001b[43msub\u001b[49m\n",
      "\u001b[0;31mNameError\u001b[0m: name 'sub' is not defined"
     ]
    }
   ],
   "source": [
    "sub"
   ]
  },
  {
   "cell_type": "markdown",
   "id": "37ec072c-9ba4-40a9-968e-e8dd0ceb7c3e",
   "metadata": {},
   "source": [
    "subfm0_requantparam_zeropoint_in\n",
    "\n",
    "mulrequantparam0_multiplier_in\n",
    "\n",
    "srl(requantparam0_shift_in - 4)\n",
    "\n",
    "    \n",
    "sub fm1_requantparam_zeropoint_in\n",
    "\n",
    "mul requantparam1_multiplier_in\n",
    "\n",
    "srl (requantparam1_shift_in - 4)\n",
    "\n",
    "      \n",
    "sub \n",
    "\n",
    "      \n",
    "mul  requantparam_multiplier_out\n",
    "\n",
    "srl  requantparam_shift_out\n",
    "\n",
    "add  requantparam_zerpoint_out\n"
   ]
  },
  {
   "cell_type": "code",
   "execution_count": null,
   "id": "cccadf8e-6580-41ac-8ee5-cfbe8c79e40c",
   "metadata": {},
   "outputs": [],
   "source": [
    "def sub_compute(a,b):\n",
    "    a =((a - 140) * 16384) >> 15\n",
    "    b =((b - 126) * 24467) >> 16\n",
    "    return hex(( ((a - b) * 28604) >> 18) + 139)"
   ]
  },
  {
   "cell_type": "markdown",
   "id": "70f4ab30-0477-47b1-bcd9-ed608f867fb3",
   "metadata": {},
   "source": [
    "### mul"
   ]
  },
  {
   "cell_type": "markdown",
   "id": "3c7f04fd-0ae2-4443-bbdc-1ff5beefe4e8",
   "metadata": {},
   "source": [
    "\n",
    "\n",
    "sub fm1 - fm1_requantparam_zeropoin_in\n",
    "\n",
    "\n",
    "sub fm0 - fm0_requantparam_zeropoin_in\n",
    "\n",
    "mul  r1 r2 \n",
    "\n",
    "mul requantparam_multiplier_out\n",
    "\n",
    "srl requantparam_shift_out\n",
    "\n",
    "add requantparam_zerpoin_out\n"
   ]
  },
  {
   "cell_type": "code",
   "execution_count": 24,
   "id": "3f8afc4f-f9a3-43e8-b63e-c27ed4476f92",
   "metadata": {},
   "outputs": [],
   "source": [
    "def mul_compute(a,b):\n",
    "   return ( ((fm1 - fm1_requantparam_zeropoin_in) * ((fm2 - fm2_requantparam_zeropoin_in)) * requantparam_multiplier_out) >> requantparam_shift_out) + requantparam_zerpoin_out\n",
    "    \n",
    "    "
   ]
  },
  {
   "cell_type": "code",
   "execution_count": 76,
   "id": "55ef77a7-b41c-4db2-ae56-54a1a8242b7b",
   "metadata": {},
   "outputs": [
    {
     "name": "stdout",
     "output_type": "stream",
     "text": [
      "113.83267716535437\n",
      "q3: 153.0\n",
      "-24730.0 28\n"
     ]
    },
    {
     "data": {
      "text/plain": [
       "336"
      ]
     },
     "execution_count": 76,
     "metadata": {},
     "output_type": "execute_result"
    }
   ],
   "source": [
    "import numpy as np\n",
    "\n",
    "import math\n",
    "\n",
    "\n",
    "def calcRescaleMultiAndshift1(rescale):\n",
    "    shift = 0\n",
    "    exp = 0\n",
    "    fr,exp = math.frexp(rescale)\n",
    "\n",
    "    multiplier = np.round(fr * (0b00000000000000000000000000000000000000001 << 15))  #uint16\n",
    "\n",
    "    if multiplier == (0b000000000000000000000000000000000001 << 15):\n",
    "        multiplier =  multiplier / 2;\n",
    "        exp = exp + 1;\n",
    "\n",
    "    # assert(exp <= INT8_MAX && exp >= INT8_MIN);\n",
    "    shift = exp   #static_cast<int8_t>\n",
    "    if shift < -15:\n",
    "        shift = 0;\n",
    "        multiplier = 0;\n",
    "    shift = -shift + 15     # add算子的shift不用-8   目前只有conv和fc类要-8\n",
    "    \n",
    "    return(multiplier,shift)\n",
    "\n",
    "\n",
    "\n",
    "def quant(r,s,z):\n",
    "    q = np.round( r/s  +  z)\n",
    "    return q\n",
    "\n",
    "\n",
    "Q1max = 127\n",
    "Q1min = -127\n",
    "\n",
    "\n",
    "R1min = -0.1\n",
    "R1max = 0.2\n",
    "r1 = 0.19\n",
    "s1 =  (R1max - R1min) / (Q1max - Q1min)\n",
    "z1 =  np.round(Q1max - R1max/s1)\n",
    "q1 =quant(r1,s1,z1)\n",
    "\n",
    "\n",
    "Q2max = 127\n",
    "Q2min = -127\n",
    "\n",
    "R2min = -0.15\n",
    "R2max = 0.12\n",
    "r2 = 0.112\n",
    "s2 =  (R2max - R2min) / (Q2max - Q2min)\n",
    "z2 =  np.round(Q2max - R2max/s2)\n",
    "q2 =quant(r2,s2,z2)\n",
    "\n",
    "q3_1 = (s1 * s2 / s3) * ( q1 - z1 ) * ( q2 - z2 ) + z3\n",
    "print(q3_1)\n",
    "# print(np.round(q3_1))\n",
    "\n",
    "\n",
    "Q3max = 127\n",
    "Q3min = -127\n",
    "\n",
    "R3min = max(R1max,R2max) + min(R1min,R2min)\n",
    "R3max = max(R1max*R2max,R1min* R2min)\n",
    "r3 = r1 * r2\n",
    "s3 =  (R3max - R3min) / (Q3max - Q3min)\n",
    "z3 =  np.round(Q3max - R3max/s3)\n",
    "q3 =quant(r3,s3,z3)\n",
    "\n",
    "# print(q1,q2,q3)\n",
    "\n",
    "print(\"q3:\",q3)\n",
    "\n",
    "multiper_float = s2*s3/s1\n",
    "# print(multiper_float)\n",
    "multiper,shift = calcRescaleMultiAndshift1(multiper_float)\n",
    "print(multiper,shift)\n",
    "shift = shift-4\n",
    "(((int)(( q1 - z1 ) * ( q2 - z2 ) * multiper)) >> shift) + int(z3)\n",
    "\n",
    "# print(shift)\n",
    "# print(type(434137305))\n",
    "# 3 + z3"
   ]
  },
  {
   "cell_type": "code",
   "execution_count": null,
   "id": "4304bcf3-41d2-490e-9380-8be1b1ea6124",
   "metadata": {},
   "outputs": [],
   "source": []
  },
  {
   "cell_type": "code",
   "execution_count": null,
   "id": "c0138942-979c-4422-93d3-e60236416b7a",
   "metadata": {},
   "outputs": [],
   "source": []
  }
 ],
 "metadata": {
  "kernelspec": {
   "display_name": "Python 3 (ipykernel)",
   "language": "python",
   "name": "python3"
  },
  "language_info": {
   "codemirror_mode": {
    "name": "ipython",
    "version": 3
   },
   "file_extension": ".py",
   "mimetype": "text/x-python",
   "name": "python",
   "nbconvert_exporter": "python",
   "pygments_lexer": "ipython3",
   "version": "3.9.7"
  },
  "toc-autonumbering": true
 },
 "nbformat": 4,
 "nbformat_minor": 5
}
